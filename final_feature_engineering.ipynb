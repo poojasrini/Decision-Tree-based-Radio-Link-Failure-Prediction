{
  "nbformat": 4,
  "nbformat_minor": 0,
  "metadata": {
    "colab": {
      "name": "final_feature_engineering.ipynb",
      "provenance": [],
      "collapsed_sections": []
    },
    "kernelspec": {
      "name": "python3",
      "display_name": "Python 3"
    },
    "language_info": {
      "name": "python"
    }
  },
  "cells": [
    {
      "cell_type": "markdown",
      "metadata": {
        "id": "BXc-PX2Gr2cx"
      },
      "source": [
        "# **Feature Engineering to obtain redundant columns that can be dropped during training**"
      ]
    },
    {
      "cell_type": "code",
      "metadata": {
        "id": "XEIgnKtrWmC_"
      },
      "source": [
        "#Import libraries\n",
        "import pandas as pd\n",
        "import matplotlib.pyplot as plt"
      ],
      "execution_count": null,
      "outputs": []
    },
    {
      "cell_type": "code",
      "metadata": {
        "colab": {
          "base_uri": "https://localhost:8080/"
        },
        "id": "0DJp0KfWCRXf",
        "outputId": "349a99ab-e380-4c8e-b01e-66be80ee89b8"
      },
      "source": [
        "from google.colab import drive\n",
        "drive.mount('/content/drive')"
      ],
      "execution_count": null,
      "outputs": [
        {
          "output_type": "stream",
          "text": [
            "Mounted at /content/drive\n"
          ],
          "name": "stdout"
        }
      ]
    },
    {
      "cell_type": "code",
      "metadata": {
        "id": "EBR0P9-iWvvn"
      },
      "source": [
        "# Importing datasets\n",
        "met_stations = pd.read_csv('/content/drive/MyDrive/FYP/met-stations.tsv',sep='\\t',index_col=0)\n",
        "met_forecast = pd.read_csv('/content/drive/MyDrive/FYP/met-forecast.tsv',sep='\\t',index_col=0) \n",
        "rl_sites = pd.read_csv('/content/drive/MyDrive/FYP/rl-sites.tsv',sep='\\t',index_col=0)\n",
        "rl_kpis = pd.read_csv('/content/drive/MyDrive/FYP/rl-kpis.tsv',sep='\\t',index_col=0)\n",
        "distances = pd.read_csv('/content/drive/MyDrive/FYP/distances.tsv',sep='\\t', index_col=0)\n",
        "met_real = pd.read_csv('/content/drive/MyDrive/FYP/met-real.tsv',nrows=3000, sep='\\t',index_col=0)"
      ],
      "execution_count": null,
      "outputs": []
    },
    {
      "cell_type": "code",
      "metadata": {
        "colab": {
          "base_uri": "https://localhost:8080/",
          "height": 202
        },
        "id": "0R9S6XPuW8BJ",
        "outputId": "ed6ceda5-d462-4fe9-84e1-e83ac5fac36e"
      },
      "source": [
        "met_stations.head()"
      ],
      "execution_count": null,
      "outputs": [
        {
          "output_type": "execute_result",
          "data": {
            "text/html": [
              "<div>\n",
              "<style scoped>\n",
              "    .dataframe tbody tr th:only-of-type {\n",
              "        vertical-align: middle;\n",
              "    }\n",
              "\n",
              "    .dataframe tbody tr th {\n",
              "        vertical-align: top;\n",
              "    }\n",
              "\n",
              "    .dataframe thead th {\n",
              "        text-align: right;\n",
              "    }\n",
              "</style>\n",
              "<table border=\"1\" class=\"dataframe\">\n",
              "  <thead>\n",
              "    <tr style=\"text-align: right;\">\n",
              "      <th></th>\n",
              "      <th>station_no</th>\n",
              "      <th>height</th>\n",
              "      <th>clutter_class</th>\n",
              "    </tr>\n",
              "  </thead>\n",
              "  <tbody>\n",
              "    <tr>\n",
              "      <th>0</th>\n",
              "      <td>WS_17047</td>\n",
              "      <td>381</td>\n",
              "      <td>DENSE TREE</td>\n",
              "    </tr>\n",
              "    <tr>\n",
              "      <th>1</th>\n",
              "      <td>WS_17062</td>\n",
              "      <td>5</td>\n",
              "      <td>LOW-MEDIUM URBAN</td>\n",
              "    </tr>\n",
              "    <tr>\n",
              "      <th>2</th>\n",
              "      <td>WS_17063</td>\n",
              "      <td>99</td>\n",
              "      <td>AIRPORT</td>\n",
              "    </tr>\n",
              "    <tr>\n",
              "      <th>3</th>\n",
              "      <td>WS_17064</td>\n",
              "      <td>18</td>\n",
              "      <td>OPEN IN URBAN</td>\n",
              "    </tr>\n",
              "    <tr>\n",
              "      <th>4</th>\n",
              "      <td>WS_17065</td>\n",
              "      <td>123</td>\n",
              "      <td>LOW-SPARSE URBAN</td>\n",
              "    </tr>\n",
              "  </tbody>\n",
              "</table>\n",
              "</div>"
            ],
            "text/plain": [
              "  station_no  height     clutter_class\n",
              "0   WS_17047     381        DENSE TREE\n",
              "1   WS_17062       5  LOW-MEDIUM URBAN\n",
              "2   WS_17063      99           AIRPORT\n",
              "3   WS_17064      18     OPEN IN URBAN\n",
              "4   WS_17065     123  LOW-SPARSE URBAN"
            ]
          },
          "metadata": {},
          "execution_count": 4
        }
      ]
    },
    {
      "cell_type": "code",
      "metadata": {
        "colab": {
          "base_uri": "https://localhost:8080/",
          "height": 305
        },
        "id": "XoLtfeCaXFe1",
        "outputId": "9cccfc03-dd0a-4c0b-bf36-1088a8732928"
      },
      "source": [
        "rl_kpis.head()"
      ],
      "execution_count": null,
      "outputs": [
        {
          "output_type": "execute_result",
          "data": {
            "text/html": [
              "<div>\n",
              "<style scoped>\n",
              "    .dataframe tbody tr th:only-of-type {\n",
              "        vertical-align: middle;\n",
              "    }\n",
              "\n",
              "    .dataframe tbody tr th {\n",
              "        vertical-align: top;\n",
              "    }\n",
              "\n",
              "    .dataframe thead th {\n",
              "        text-align: right;\n",
              "    }\n",
              "</style>\n",
              "<table border=\"1\" class=\"dataframe\">\n",
              "  <thead>\n",
              "    <tr style=\"text-align: right;\">\n",
              "      <th></th>\n",
              "      <th>type</th>\n",
              "      <th>datetime</th>\n",
              "      <th>tip</th>\n",
              "      <th>mlid</th>\n",
              "      <th>mw_connection_no</th>\n",
              "      <th>site_id</th>\n",
              "      <th>card_type</th>\n",
              "      <th>adaptive_modulation</th>\n",
              "      <th>freq_band</th>\n",
              "      <th>severaly_error_second</th>\n",
              "      <th>error_second</th>\n",
              "      <th>unavail_second</th>\n",
              "      <th>avail_time</th>\n",
              "      <th>bbe</th>\n",
              "      <th>rxlevmax</th>\n",
              "      <th>capacity</th>\n",
              "      <th>modulation</th>\n",
              "      <th>rlf</th>\n",
              "    </tr>\n",
              "  </thead>\n",
              "  <tbody>\n",
              "    <tr>\n",
              "      <th>0</th>\n",
              "      <td>ENK</td>\n",
              "      <td>2018-12-31</td>\n",
              "      <td>FAR</td>\n",
              "      <td>A0BE</td>\n",
              "      <td>1,349,988</td>\n",
              "      <td>RL_;ABDV</td>\n",
              "      <td>cardtype1</td>\n",
              "      <td>Enable</td>\n",
              "      <td>f3</td>\n",
              "      <td>0.0</td>\n",
              "      <td>0.0</td>\n",
              "      <td>0.0</td>\n",
              "      <td>86.4</td>\n",
              "      <td>0.0</td>\n",
              "      <td>-31.0</td>\n",
              "      <td>456.0</td>\n",
              "      <td>1024QAM</td>\n",
              "      <td>False</td>\n",
              "    </tr>\n",
              "    <tr>\n",
              "      <th>1</th>\n",
              "      <td>ENK</td>\n",
              "      <td>2018-12-31</td>\n",
              "      <td>FAR</td>\n",
              "      <td>A0BI</td>\n",
              "      <td>1,349,988</td>\n",
              "      <td>RL_;ABDV</td>\n",
              "      <td>cardtype1</td>\n",
              "      <td>Enable</td>\n",
              "      <td>f3</td>\n",
              "      <td>0.0</td>\n",
              "      <td>0.0</td>\n",
              "      <td>0.0</td>\n",
              "      <td>86.4</td>\n",
              "      <td>0.0</td>\n",
              "      <td>-30.7</td>\n",
              "      <td>456.0</td>\n",
              "      <td>1024QAM</td>\n",
              "      <td>False</td>\n",
              "    </tr>\n",
              "    <tr>\n",
              "      <th>2</th>\n",
              "      <td>ENK</td>\n",
              "      <td>2018-12-31</td>\n",
              "      <td>FAR</td>\n",
              "      <td>A5AB</td>\n",
              "      <td>1,344,018</td>\n",
              "      <td>RL_;ABDV</td>\n",
              "      <td>cardtype4</td>\n",
              "      <td>Enable</td>\n",
              "      <td>f3</td>\n",
              "      <td>0.0</td>\n",
              "      <td>0.0</td>\n",
              "      <td>0.0</td>\n",
              "      <td>86.4</td>\n",
              "      <td>0.0</td>\n",
              "      <td>-34.4</td>\n",
              "      <td>406.0</td>\n",
              "      <td>512QAM</td>\n",
              "      <td>False</td>\n",
              "    </tr>\n",
              "    <tr>\n",
              "      <th>3</th>\n",
              "      <td>NEC</td>\n",
              "      <td>2018-12-31</td>\n",
              "      <td>FAR</td>\n",
              "      <td>A8CQ</td>\n",
              "      <td>1,351,204</td>\n",
              "      <td>RL_;ABDV</td>\n",
              "      <td>cardtype5</td>\n",
              "      <td>Enable</td>\n",
              "      <td>f2</td>\n",
              "      <td>0.0</td>\n",
              "      <td>0.0</td>\n",
              "      <td>0.0</td>\n",
              "      <td>86.4</td>\n",
              "      <td>0.0</td>\n",
              "      <td>-35.3</td>\n",
              "      <td>247.0</td>\n",
              "      <td>2048QAM*</td>\n",
              "      <td>False</td>\n",
              "    </tr>\n",
              "    <tr>\n",
              "      <th>4</th>\n",
              "      <td>NEC</td>\n",
              "      <td>2018-12-31</td>\n",
              "      <td>FAR</td>\n",
              "      <td>A8DQ</td>\n",
              "      <td>1,351,204</td>\n",
              "      <td>RL_;ABDV</td>\n",
              "      <td>cardtype5</td>\n",
              "      <td>Enable</td>\n",
              "      <td>f2</td>\n",
              "      <td>0.0</td>\n",
              "      <td>0.0</td>\n",
              "      <td>0.0</td>\n",
              "      <td>86.4</td>\n",
              "      <td>0.0</td>\n",
              "      <td>-35.3</td>\n",
              "      <td>247.0</td>\n",
              "      <td>2048QAM*</td>\n",
              "      <td>False</td>\n",
              "    </tr>\n",
              "  </tbody>\n",
              "</table>\n",
              "</div>"
            ],
            "text/plain": [
              "  type    datetime  tip  mlid  ... rxlevmax capacity modulation    rlf\n",
              "0  ENK  2018-12-31  FAR  A0BE  ...    -31.0    456.0    1024QAM  False\n",
              "1  ENK  2018-12-31  FAR  A0BI  ...    -30.7    456.0    1024QAM  False\n",
              "2  ENK  2018-12-31  FAR  A5AB  ...    -34.4    406.0     512QAM  False\n",
              "3  NEC  2018-12-31  FAR  A8CQ  ...    -35.3    247.0   2048QAM*  False\n",
              "4  NEC  2018-12-31  FAR  A8DQ  ...    -35.3    247.0   2048QAM*  False\n",
              "\n",
              "[5 rows x 18 columns]"
            ]
          },
          "metadata": {},
          "execution_count": 5
        }
      ]
    },
    {
      "cell_type": "code",
      "metadata": {
        "id": "693sRUDXEkk4"
      },
      "source": [
        "# Separating out the columns having numerical values\n",
        "data=rl_kpis[['mw_connection_no',\t'severaly_error_second','error_second','unavail_second','avail_time','bbe','rxlevmax','capacity','rlf']]"
      ],
      "execution_count": null,
      "outputs": []
    },
    {
      "cell_type": "code",
      "metadata": {
        "colab": {
          "base_uri": "https://localhost:8080/"
        },
        "id": "pQ9lhmOLhjCk",
        "outputId": "ec49e8cd-f920-4e65-f36d-cb45fe028bdb"
      },
      "source": [
        "rl_kpis.shape"
      ],
      "execution_count": null,
      "outputs": [
        {
          "output_type": "execute_result",
          "data": {
            "text/plain": [
              "(1992986, 18)"
            ]
          },
          "metadata": {},
          "execution_count": 7
        }
      ]
    },
    {
      "cell_type": "code",
      "metadata": {
        "colab": {
          "base_uri": "https://localhost:8080/"
        },
        "id": "U2vNDq4hxGdR",
        "outputId": "b7dba7ee-025a-41d5-ac04-9bbb75282e4c"
      },
      "source": [
        "# Count of number of failure and success\n",
        "f,t=rl_kpis['rlf'].value_counts()\n",
        "print(f)\n",
        "print(t)"
      ],
      "execution_count": null,
      "outputs": [
        {
          "output_type": "stream",
          "text": [
            "1991767\n",
            "1219\n"
          ],
          "name": "stdout"
        }
      ]
    },
    {
      "cell_type": "code",
      "metadata": {
        "colab": {
          "base_uri": "https://localhost:8080/"
        },
        "id": "kH86mAHdw98s",
        "outputId": "f36ff548-2796-49d9-abd0-611c6e157b99"
      },
      "source": [
        "# Percentage of radio link success\n",
        "no_failure_percent=f/(f+t)*100\n",
        "no_failure_percent"
      ],
      "execution_count": null,
      "outputs": [
        {
          "output_type": "execute_result",
          "data": {
            "text/plain": [
              "99.93883549608476"
            ]
          },
          "metadata": {},
          "execution_count": 9
        }
      ]
    },
    {
      "cell_type": "code",
      "metadata": {
        "colab": {
          "base_uri": "https://localhost:8080/"
        },
        "id": "kFNfaVwJxDS4",
        "outputId": "62bb7b12-4108-4676-a7da-6284f7728dc1"
      },
      "source": [
        "# Percentage of radio link failure\n",
        "failure_percent=t/(f+t)*100\n",
        "failure_percent"
      ],
      "execution_count": null,
      "outputs": [
        {
          "output_type": "execute_result",
          "data": {
            "text/plain": [
              "0.06116450391523071"
            ]
          },
          "metadata": {},
          "execution_count": 10
        }
      ]
    },
    {
      "cell_type": "code",
      "metadata": {
        "id": "EnteeJeygctK"
      },
      "source": [
        "rl_kpis.drop(columns=['datetime'], inplace=True)"
      ],
      "execution_count": null,
      "outputs": []
    },
    {
      "cell_type": "code",
      "metadata": {
        "id": "YJ2kTdYfbKQc"
      },
      "source": [
        "#Importing libraries\n",
        "import numpy as np\n",
        "import pandas as pd\n",
        "import seaborn as sns\n",
        "import matplotlib.pyplot as plt\n",
        "from sklearn.preprocessing import LabelEncoder, OneHotEncoder\n",
        "import warnings\n",
        "warnings.filterwarnings(\"ignore\")\n",
        "from sklearn.model_selection import train_test_split\n",
        "from sklearn.svm import SVC\n",
        "from sklearn.metrics import confusion_matrix\n",
        "np.random.seed(123)"
      ],
      "execution_count": null,
      "outputs": []
    },
    {
      "cell_type": "code",
      "metadata": {
        "id": "X3SaMKNUgFVS"
      },
      "source": [
        "data=rl_kpis[['type','severaly_error_second','error_second','unavail_second','avail_time','bbe','rxlevmax','capacity','rlf']]"
      ],
      "execution_count": null,
      "outputs": []
    },
    {
      "cell_type": "code",
      "metadata": {
        "colab": {
          "base_uri": "https://localhost:8080/",
          "height": 414
        },
        "id": "kXDrvDplinNt",
        "outputId": "6271a110-eb83-47ec-9fa6-cb7d1a460705"
      },
      "source": [
        "data"
      ],
      "execution_count": null,
      "outputs": [
        {
          "output_type": "execute_result",
          "data": {
            "text/html": [
              "<div>\n",
              "<style scoped>\n",
              "    .dataframe tbody tr th:only-of-type {\n",
              "        vertical-align: middle;\n",
              "    }\n",
              "\n",
              "    .dataframe tbody tr th {\n",
              "        vertical-align: top;\n",
              "    }\n",
              "\n",
              "    .dataframe thead th {\n",
              "        text-align: right;\n",
              "    }\n",
              "</style>\n",
              "<table border=\"1\" class=\"dataframe\">\n",
              "  <thead>\n",
              "    <tr style=\"text-align: right;\">\n",
              "      <th></th>\n",
              "      <th>type</th>\n",
              "      <th>severaly_error_second</th>\n",
              "      <th>error_second</th>\n",
              "      <th>unavail_second</th>\n",
              "      <th>avail_time</th>\n",
              "      <th>bbe</th>\n",
              "      <th>rxlevmax</th>\n",
              "      <th>capacity</th>\n",
              "      <th>rlf</th>\n",
              "    </tr>\n",
              "  </thead>\n",
              "  <tbody>\n",
              "    <tr>\n",
              "      <th>0</th>\n",
              "      <td>ENK</td>\n",
              "      <td>0.0</td>\n",
              "      <td>0.0</td>\n",
              "      <td>0.0</td>\n",
              "      <td>86.4</td>\n",
              "      <td>0.0</td>\n",
              "      <td>-31.0</td>\n",
              "      <td>456.0</td>\n",
              "      <td>False</td>\n",
              "    </tr>\n",
              "    <tr>\n",
              "      <th>1</th>\n",
              "      <td>ENK</td>\n",
              "      <td>0.0</td>\n",
              "      <td>0.0</td>\n",
              "      <td>0.0</td>\n",
              "      <td>86.4</td>\n",
              "      <td>0.0</td>\n",
              "      <td>-30.7</td>\n",
              "      <td>456.0</td>\n",
              "      <td>False</td>\n",
              "    </tr>\n",
              "    <tr>\n",
              "      <th>2</th>\n",
              "      <td>ENK</td>\n",
              "      <td>0.0</td>\n",
              "      <td>0.0</td>\n",
              "      <td>0.0</td>\n",
              "      <td>86.4</td>\n",
              "      <td>0.0</td>\n",
              "      <td>-34.4</td>\n",
              "      <td>406.0</td>\n",
              "      <td>False</td>\n",
              "    </tr>\n",
              "    <tr>\n",
              "      <th>3</th>\n",
              "      <td>NEC</td>\n",
              "      <td>0.0</td>\n",
              "      <td>0.0</td>\n",
              "      <td>0.0</td>\n",
              "      <td>86.4</td>\n",
              "      <td>0.0</td>\n",
              "      <td>-35.3</td>\n",
              "      <td>247.0</td>\n",
              "      <td>False</td>\n",
              "    </tr>\n",
              "    <tr>\n",
              "      <th>4</th>\n",
              "      <td>NEC</td>\n",
              "      <td>0.0</td>\n",
              "      <td>0.0</td>\n",
              "      <td>0.0</td>\n",
              "      <td>86.4</td>\n",
              "      <td>0.0</td>\n",
              "      <td>-35.3</td>\n",
              "      <td>247.0</td>\n",
              "      <td>False</td>\n",
              "    </tr>\n",
              "    <tr>\n",
              "      <th>...</th>\n",
              "      <td>...</td>\n",
              "      <td>...</td>\n",
              "      <td>...</td>\n",
              "      <td>...</td>\n",
              "      <td>...</td>\n",
              "      <td>...</td>\n",
              "      <td>...</td>\n",
              "      <td>...</td>\n",
              "      <td>...</td>\n",
              "    </tr>\n",
              "    <tr>\n",
              "      <th>1992981</th>\n",
              "      <td>NEC</td>\n",
              "      <td>0.0</td>\n",
              "      <td>0.0</td>\n",
              "      <td>0.0</td>\n",
              "      <td>86.4</td>\n",
              "      <td>0.0</td>\n",
              "      <td>-36.8</td>\n",
              "      <td>495.0</td>\n",
              "      <td>False</td>\n",
              "    </tr>\n",
              "    <tr>\n",
              "      <th>1992982</th>\n",
              "      <td>NEC</td>\n",
              "      <td>0.0</td>\n",
              "      <td>0.0</td>\n",
              "      <td>0.0</td>\n",
              "      <td>86.4</td>\n",
              "      <td>0.0</td>\n",
              "      <td>-36.8</td>\n",
              "      <td>495.0</td>\n",
              "      <td>False</td>\n",
              "    </tr>\n",
              "    <tr>\n",
              "      <th>1992983</th>\n",
              "      <td>NEC</td>\n",
              "      <td>0.0</td>\n",
              "      <td>0.0</td>\n",
              "      <td>0.0</td>\n",
              "      <td>86.4</td>\n",
              "      <td>0.0</td>\n",
              "      <td>-28.9</td>\n",
              "      <td>495.0</td>\n",
              "      <td>False</td>\n",
              "    </tr>\n",
              "    <tr>\n",
              "      <th>1992984</th>\n",
              "      <td>NEC</td>\n",
              "      <td>0.0</td>\n",
              "      <td>0.0</td>\n",
              "      <td>0.0</td>\n",
              "      <td>86.4</td>\n",
              "      <td>0.0</td>\n",
              "      <td>-28.9</td>\n",
              "      <td>495.0</td>\n",
              "      <td>False</td>\n",
              "    </tr>\n",
              "    <tr>\n",
              "      <th>1992985</th>\n",
              "      <td>NEC</td>\n",
              "      <td>0.0</td>\n",
              "      <td>0.0</td>\n",
              "      <td>0.0</td>\n",
              "      <td>86.4</td>\n",
              "      <td>0.0</td>\n",
              "      <td>-38.7</td>\n",
              "      <td>495.0</td>\n",
              "      <td>False</td>\n",
              "    </tr>\n",
              "  </tbody>\n",
              "</table>\n",
              "<p>1992986 rows × 9 columns</p>\n",
              "</div>"
            ],
            "text/plain": [
              "        type  severaly_error_second  error_second  ...  rxlevmax  capacity    rlf\n",
              "0        ENK                    0.0           0.0  ...     -31.0     456.0  False\n",
              "1        ENK                    0.0           0.0  ...     -30.7     456.0  False\n",
              "2        ENK                    0.0           0.0  ...     -34.4     406.0  False\n",
              "3        NEC                    0.0           0.0  ...     -35.3     247.0  False\n",
              "4        NEC                    0.0           0.0  ...     -35.3     247.0  False\n",
              "...      ...                    ...           ...  ...       ...       ...    ...\n",
              "1992981  NEC                    0.0           0.0  ...     -36.8     495.0  False\n",
              "1992982  NEC                    0.0           0.0  ...     -36.8     495.0  False\n",
              "1992983  NEC                    0.0           0.0  ...     -28.9     495.0  False\n",
              "1992984  NEC                    0.0           0.0  ...     -28.9     495.0  False\n",
              "1992985  NEC                    0.0           0.0  ...     -38.7     495.0  False\n",
              "\n",
              "[1992986 rows x 9 columns]"
            ]
          },
          "metadata": {},
          "execution_count": 14
        }
      ]
    },
    {
      "cell_type": "code",
      "metadata": {
        "id": "VQBDgYPXfx3b"
      },
      "source": [
        "# Ending the categorical columns\n",
        "label_encoder = LabelEncoder()\n",
        "data.iloc[:,0] = label_encoder.fit_transform(data.iloc[:,0]).astype('float64')"
      ],
      "execution_count": null,
      "outputs": []
    },
    {
      "cell_type": "code",
      "metadata": {
        "colab": {
          "base_uri": "https://localhost:8080/",
          "height": 324
        },
        "id": "merYG-CdaXi8",
        "outputId": "aaf7baa7-b5e3-455e-e3d7-19f1a6de3563"
      },
      "source": [
        "# Checking the correlation to check if any pair of columns have any high correlation value\n",
        "corr=data.corr()\n",
        "corr"
      ],
      "execution_count": null,
      "outputs": [
        {
          "output_type": "execute_result",
          "data": {
            "text/html": [
              "<div>\n",
              "<style scoped>\n",
              "    .dataframe tbody tr th:only-of-type {\n",
              "        vertical-align: middle;\n",
              "    }\n",
              "\n",
              "    .dataframe tbody tr th {\n",
              "        vertical-align: top;\n",
              "    }\n",
              "\n",
              "    .dataframe thead th {\n",
              "        text-align: right;\n",
              "    }\n",
              "</style>\n",
              "<table border=\"1\" class=\"dataframe\">\n",
              "  <thead>\n",
              "    <tr style=\"text-align: right;\">\n",
              "      <th></th>\n",
              "      <th>type</th>\n",
              "      <th>severaly_error_second</th>\n",
              "      <th>error_second</th>\n",
              "      <th>unavail_second</th>\n",
              "      <th>avail_time</th>\n",
              "      <th>bbe</th>\n",
              "      <th>rxlevmax</th>\n",
              "      <th>capacity</th>\n",
              "      <th>rlf</th>\n",
              "    </tr>\n",
              "  </thead>\n",
              "  <tbody>\n",
              "    <tr>\n",
              "      <th>type</th>\n",
              "      <td>1.000000</td>\n",
              "      <td>0.009488</td>\n",
              "      <td>-0.006588</td>\n",
              "      <td>-0.005913</td>\n",
              "      <td>0.059478</td>\n",
              "      <td>0.003483</td>\n",
              "      <td>0.169600</td>\n",
              "      <td>0.231208</td>\n",
              "      <td>-0.004724</td>\n",
              "    </tr>\n",
              "    <tr>\n",
              "      <th>severaly_error_second</th>\n",
              "      <td>0.009488</td>\n",
              "      <td>1.000000</td>\n",
              "      <td>0.175379</td>\n",
              "      <td>0.052222</td>\n",
              "      <td>0.001419</td>\n",
              "      <td>0.046153</td>\n",
              "      <td>0.000959</td>\n",
              "      <td>-0.002583</td>\n",
              "      <td>0.050065</td>\n",
              "    </tr>\n",
              "    <tr>\n",
              "      <th>error_second</th>\n",
              "      <td>-0.006588</td>\n",
              "      <td>0.175379</td>\n",
              "      <td>1.000000</td>\n",
              "      <td>0.038447</td>\n",
              "      <td>0.004982</td>\n",
              "      <td>0.011024</td>\n",
              "      <td>0.001926</td>\n",
              "      <td>0.000545</td>\n",
              "      <td>0.037933</td>\n",
              "    </tr>\n",
              "    <tr>\n",
              "      <th>unavail_second</th>\n",
              "      <td>-0.005913</td>\n",
              "      <td>0.052222</td>\n",
              "      <td>0.038447</td>\n",
              "      <td>1.000000</td>\n",
              "      <td>0.002128</td>\n",
              "      <td>0.003077</td>\n",
              "      <td>-0.013619</td>\n",
              "      <td>-0.024284</td>\n",
              "      <td>0.355984</td>\n",
              "    </tr>\n",
              "    <tr>\n",
              "      <th>avail_time</th>\n",
              "      <td>0.059478</td>\n",
              "      <td>0.001419</td>\n",
              "      <td>0.004982</td>\n",
              "      <td>0.002128</td>\n",
              "      <td>1.000000</td>\n",
              "      <td>0.000206</td>\n",
              "      <td>0.007403</td>\n",
              "      <td>0.010654</td>\n",
              "      <td>0.002021</td>\n",
              "    </tr>\n",
              "    <tr>\n",
              "      <th>bbe</th>\n",
              "      <td>0.003483</td>\n",
              "      <td>0.046153</td>\n",
              "      <td>0.011024</td>\n",
              "      <td>0.003077</td>\n",
              "      <td>0.000206</td>\n",
              "      <td>1.000000</td>\n",
              "      <td>0.000143</td>\n",
              "      <td>-0.000397</td>\n",
              "      <td>0.003796</td>\n",
              "    </tr>\n",
              "    <tr>\n",
              "      <th>rxlevmax</th>\n",
              "      <td>0.169600</td>\n",
              "      <td>0.000959</td>\n",
              "      <td>0.001926</td>\n",
              "      <td>-0.013619</td>\n",
              "      <td>0.007403</td>\n",
              "      <td>0.000143</td>\n",
              "      <td>1.000000</td>\n",
              "      <td>0.107803</td>\n",
              "      <td>-0.009494</td>\n",
              "    </tr>\n",
              "    <tr>\n",
              "      <th>capacity</th>\n",
              "      <td>0.231208</td>\n",
              "      <td>-0.002583</td>\n",
              "      <td>0.000545</td>\n",
              "      <td>-0.024284</td>\n",
              "      <td>0.010654</td>\n",
              "      <td>-0.000397</td>\n",
              "      <td>0.107803</td>\n",
              "      <td>1.000000</td>\n",
              "      <td>-0.009622</td>\n",
              "    </tr>\n",
              "    <tr>\n",
              "      <th>rlf</th>\n",
              "      <td>-0.004724</td>\n",
              "      <td>0.050065</td>\n",
              "      <td>0.037933</td>\n",
              "      <td>0.355984</td>\n",
              "      <td>0.002021</td>\n",
              "      <td>0.003796</td>\n",
              "      <td>-0.009494</td>\n",
              "      <td>-0.009622</td>\n",
              "      <td>1.000000</td>\n",
              "    </tr>\n",
              "  </tbody>\n",
              "</table>\n",
              "</div>"
            ],
            "text/plain": [
              "                           type  severaly_error_second  ...  capacity       rlf\n",
              "type                   1.000000               0.009488  ...  0.231208 -0.004724\n",
              "severaly_error_second  0.009488               1.000000  ... -0.002583  0.050065\n",
              "error_second          -0.006588               0.175379  ...  0.000545  0.037933\n",
              "unavail_second        -0.005913               0.052222  ... -0.024284  0.355984\n",
              "avail_time             0.059478               0.001419  ...  0.010654  0.002021\n",
              "bbe                    0.003483               0.046153  ... -0.000397  0.003796\n",
              "rxlevmax               0.169600               0.000959  ...  0.107803 -0.009494\n",
              "capacity               0.231208              -0.002583  ...  1.000000 -0.009622\n",
              "rlf                   -0.004724               0.050065  ... -0.009622  1.000000\n",
              "\n",
              "[9 rows x 9 columns]"
            ]
          },
          "metadata": {},
          "execution_count": 16
        }
      ]
    },
    {
      "cell_type": "code",
      "metadata": {
        "colab": {
          "base_uri": "https://localhost:8080/",
          "height": 387
        },
        "id": "huTsbIaUawox",
        "outputId": "d98b3fa8-c1b9-4dcf-ca17-7c50aaed0ae2"
      },
      "source": [
        "import seaborn as sns\n",
        "sns.heatmap(corr)"
      ],
      "execution_count": null,
      "outputs": [
        {
          "output_type": "execute_result",
          "data": {
            "text/plain": [
              "<matplotlib.axes._subplots.AxesSubplot at 0x7ff55d59e190>"
            ]
          },
          "metadata": {},
          "execution_count": 17
        },
        {
          "output_type": "display_data",
          "data": {
            "image/png": "[encoded data removed]",
            "text/plain": [
              "<Figure size 432x288 with 2 Axes>"
            ]
          },
          "metadata": {
            "needs_background": "light"
          }
        }
      ]
    },
    {
      "cell_type": "code",
      "metadata": {
        "colab": {
          "base_uri": "https://localhost:8080/"
        },
        "id": "sQJyouXueWMl",
        "outputId": "1e8d7f89-9b82-4f26-d870-2be95c582419"
      },
      "source": [
        "data.columns"
      ],
      "execution_count": null,
      "outputs": [
        {
          "output_type": "execute_result",
          "data": {
            "text/plain": [
              "Index(['type', 'severaly_error_second', 'error_second', 'unavail_second',\n",
              "       'avail_time', 'bbe', 'rxlevmax', 'capacity', 'rlf'],\n",
              "      dtype='object')"
            ]
          },
          "metadata": {},
          "execution_count": 18
        }
      ]
    },
    {
      "cell_type": "code",
      "metadata": {
        "id": "RBCZdMzSb84P"
      },
      "source": [
        "columns = np.full((corr.shape[0],), True, dtype=bool)\n",
        "for i in range(corr.shape[0]):\n",
        "    for j in range(i+1, corr.shape[0]):\n",
        "        if corr.iloc[i,j] >= 0.9:\n",
        "            if columns[j]:\n",
        "                columns[j] = False\n",
        "                print(columns)\n",
        "selected_columns = data.columns[columns]\n",
        "data = data[selected_columns]"
      ],
      "execution_count": null,
      "outputs": []
    },
    {
      "cell_type": "code",
      "metadata": {
        "id": "Q-lgEir4lGNT"
      },
      "source": [
        "x=data.iloc[:,:-1].values\n",
        "y=data.iloc[:,-1].values"
      ],
      "execution_count": null,
      "outputs": []
    },
    {
      "cell_type": "code",
      "metadata": {
        "colab": {
          "base_uri": "https://localhost:8080/"
        },
        "id": "HLKOuIfssEnU",
        "outputId": "24cc1d14-25ba-44ea-97b9-9dea4e58e998"
      },
      "source": [
        "y"
      ],
      "execution_count": null,
      "outputs": [
        {
          "output_type": "execute_result",
          "data": {
            "text/plain": [
              "array([False, False, False, ..., False, False, False])"
            ]
          },
          "metadata": {},
          "execution_count": 22
        }
      ]
    },
    {
      "cell_type": "markdown",
      "metadata": {
        "id": "2Wve-EWJp8dd"
      },
      "source": [
        "#### **There was no such pair having high correlation value, hence this method is not suitable for indication of any redundant columns**"
      ]
    },
    {
      "cell_type": "markdown",
      "metadata": {
        "id": "yJhvVecRUIKq"
      },
      "source": [
        "## **Backward Elimination**"
      ]
    },
    {
      "cell_type": "markdown",
      "metadata": {
        "id": "m3TZlpWmULOp"
      },
      "source": [
        "https://towardsdatascience.com/feature-selection-with-pandas-e3690ad8504b"
      ]
    },
    {
      "cell_type": "code",
      "metadata": {
        "id": "VrKIHPzqDOVu"
      },
      "source": [
        "#importing libraries\n",
        "from sklearn.datasets import load_boston\n",
        "import pandas as pd\n",
        "import numpy as np\n",
        "import matplotlib\n",
        "import matplotlib.pyplot as plt\n",
        "import seaborn as sns\n",
        "import statsmodels.api as sm\n",
        "%matplotlib inline\n",
        "from sklearn.model_selection import train_test_split\n",
        "from sklearn.linear_model import LinearRegression\n",
        "from sklearn.feature_selection import RFE\n",
        "from sklearn.linear_model import RidgeCV, LassoCV, Ridge, Lasso"
      ],
      "execution_count": null,
      "outputs": []
    },
    {
      "cell_type": "code",
      "metadata": {
        "id": "33JMdA-cNx3z"
      },
      "source": [
        "data=rl_kpis[['severaly_error_second','error_second','unavail_second','avail_time','bbe','rxlevmax','capacity','rlf']]"
      ],
      "execution_count": null,
      "outputs": []
    },
    {
      "cell_type": "code",
      "metadata": {
        "colab": {
          "base_uri": "https://localhost:8080/"
        },
        "id": "4dROcC4IFALd",
        "outputId": "fdb56151-6b56-4390-ac53-1ad3b31507a8"
      },
      "source": [
        "data.dtypes"
      ],
      "execution_count": null,
      "outputs": [
        {
          "output_type": "execute_result",
          "data": {
            "text/plain": [
              "severaly_error_second    float64\n",
              "error_second             float64\n",
              "unavail_second           float64\n",
              "avail_time               float64\n",
              "bbe                      float64\n",
              "rxlevmax                 float64\n",
              "capacity                 float64\n",
              "rlf                         bool\n",
              "dtype: object"
            ]
          },
          "metadata": {},
          "execution_count": 27
        }
      ]
    },
    {
      "cell_type": "code",
      "metadata": {
        "colab": {
          "base_uri": "https://localhost:8080/"
        },
        "id": "4xZ9iF4pFjNh",
        "outputId": "6c14d057-b8e0-4e0c-a3c8-58bc49476f0c"
      },
      "source": [
        "# Checking for infinity and null values\n",
        "ds=data.isin([np.inf, -np.inf])\n",
        "np.isinf(data.iloc[:,:-1]).values.sum()\n",
        "#X.isnull().sum()\n",
        "data.iloc[:,:-1].isnull().sum() "
      ],
      "execution_count": null,
      "outputs": [
        {
          "output_type": "execute_result",
          "data": {
            "text/plain": [
              "severaly_error_second      0\n",
              "error_second               0\n",
              "unavail_second             0\n",
              "avail_time                 0\n",
              "bbe                        0\n",
              "rxlevmax                   0\n",
              "capacity                 165\n",
              "dtype: int64"
            ]
          },
          "metadata": {},
          "execution_count": 28
        }
      ]
    },
    {
      "cell_type": "code",
      "metadata": {
        "colab": {
          "base_uri": "https://localhost:8080/",
          "height": 414
        },
        "id": "JY0n8Ha_K1_T",
        "outputId": "109f4453-9ddb-4893-ba6f-1355a3c31157"
      },
      "source": [
        "data"
      ],
      "execution_count": null,
      "outputs": [
        {
          "output_type": "execute_result",
          "data": {
            "text/html": [
              "<div>\n",
              "<style scoped>\n",
              "    .dataframe tbody tr th:only-of-type {\n",
              "        vertical-align: middle;\n",
              "    }\n",
              "\n",
              "    .dataframe tbody tr th {\n",
              "        vertical-align: top;\n",
              "    }\n",
              "\n",
              "    .dataframe thead th {\n",
              "        text-align: right;\n",
              "    }\n",
              "</style>\n",
              "<table border=\"1\" class=\"dataframe\">\n",
              "  <thead>\n",
              "    <tr style=\"text-align: right;\">\n",
              "      <th></th>\n",
              "      <th>severaly_error_second</th>\n",
              "      <th>error_second</th>\n",
              "      <th>unavail_second</th>\n",
              "      <th>avail_time</th>\n",
              "      <th>bbe</th>\n",
              "      <th>rxlevmax</th>\n",
              "      <th>capacity</th>\n",
              "      <th>rlf</th>\n",
              "    </tr>\n",
              "  </thead>\n",
              "  <tbody>\n",
              "    <tr>\n",
              "      <th>0</th>\n",
              "      <td>0.0</td>\n",
              "      <td>0.0</td>\n",
              "      <td>0.0</td>\n",
              "      <td>86.4</td>\n",
              "      <td>0.0</td>\n",
              "      <td>-31.0</td>\n",
              "      <td>456.0</td>\n",
              "      <td>False</td>\n",
              "    </tr>\n",
              "    <tr>\n",
              "      <th>1</th>\n",
              "      <td>0.0</td>\n",
              "      <td>0.0</td>\n",
              "      <td>0.0</td>\n",
              "      <td>86.4</td>\n",
              "      <td>0.0</td>\n",
              "      <td>-30.7</td>\n",
              "      <td>456.0</td>\n",
              "      <td>False</td>\n",
              "    </tr>\n",
              "    <tr>\n",
              "      <th>2</th>\n",
              "      <td>0.0</td>\n",
              "      <td>0.0</td>\n",
              "      <td>0.0</td>\n",
              "      <td>86.4</td>\n",
              "      <td>0.0</td>\n",
              "      <td>-34.4</td>\n",
              "      <td>406.0</td>\n",
              "      <td>False</td>\n",
              "    </tr>\n",
              "    <tr>\n",
              "      <th>3</th>\n",
              "      <td>0.0</td>\n",
              "      <td>0.0</td>\n",
              "      <td>0.0</td>\n",
              "      <td>86.4</td>\n",
              "      <td>0.0</td>\n",
              "      <td>-35.3</td>\n",
              "      <td>247.0</td>\n",
              "      <td>False</td>\n",
              "    </tr>\n",
              "    <tr>\n",
              "      <th>4</th>\n",
              "      <td>0.0</td>\n",
              "      <td>0.0</td>\n",
              "      <td>0.0</td>\n",
              "      <td>86.4</td>\n",
              "      <td>0.0</td>\n",
              "      <td>-35.3</td>\n",
              "      <td>247.0</td>\n",
              "      <td>False</td>\n",
              "    </tr>\n",
              "    <tr>\n",
              "      <th>...</th>\n",
              "      <td>...</td>\n",
              "      <td>...</td>\n",
              "      <td>...</td>\n",
              "      <td>...</td>\n",
              "      <td>...</td>\n",
              "      <td>...</td>\n",
              "      <td>...</td>\n",
              "      <td>...</td>\n",
              "    </tr>\n",
              "    <tr>\n",
              "      <th>1992981</th>\n",
              "      <td>0.0</td>\n",
              "      <td>0.0</td>\n",
              "      <td>0.0</td>\n",
              "      <td>86.4</td>\n",
              "      <td>0.0</td>\n",
              "      <td>-36.8</td>\n",
              "      <td>495.0</td>\n",
              "      <td>False</td>\n",
              "    </tr>\n",
              "    <tr>\n",
              "      <th>1992982</th>\n",
              "      <td>0.0</td>\n",
              "      <td>0.0</td>\n",
              "      <td>0.0</td>\n",
              "      <td>86.4</td>\n",
              "      <td>0.0</td>\n",
              "      <td>-36.8</td>\n",
              "      <td>495.0</td>\n",
              "      <td>False</td>\n",
              "    </tr>\n",
              "    <tr>\n",
              "      <th>1992983</th>\n",
              "      <td>0.0</td>\n",
              "      <td>0.0</td>\n",
              "      <td>0.0</td>\n",
              "      <td>86.4</td>\n",
              "      <td>0.0</td>\n",
              "      <td>-28.9</td>\n",
              "      <td>495.0</td>\n",
              "      <td>False</td>\n",
              "    </tr>\n",
              "    <tr>\n",
              "      <th>1992984</th>\n",
              "      <td>0.0</td>\n",
              "      <td>0.0</td>\n",
              "      <td>0.0</td>\n",
              "      <td>86.4</td>\n",
              "      <td>0.0</td>\n",
              "      <td>-28.9</td>\n",
              "      <td>495.0</td>\n",
              "      <td>False</td>\n",
              "    </tr>\n",
              "    <tr>\n",
              "      <th>1992985</th>\n",
              "      <td>0.0</td>\n",
              "      <td>0.0</td>\n",
              "      <td>0.0</td>\n",
              "      <td>86.4</td>\n",
              "      <td>0.0</td>\n",
              "      <td>-38.7</td>\n",
              "      <td>495.0</td>\n",
              "      <td>False</td>\n",
              "    </tr>\n",
              "  </tbody>\n",
              "</table>\n",
              "<p>1992986 rows × 8 columns</p>\n",
              "</div>"
            ],
            "text/plain": [
              "         severaly_error_second  error_second  ...  capacity    rlf\n",
              "0                          0.0           0.0  ...     456.0  False\n",
              "1                          0.0           0.0  ...     456.0  False\n",
              "2                          0.0           0.0  ...     406.0  False\n",
              "3                          0.0           0.0  ...     247.0  False\n",
              "4                          0.0           0.0  ...     247.0  False\n",
              "...                        ...           ...  ...       ...    ...\n",
              "1992981                    0.0           0.0  ...     495.0  False\n",
              "1992982                    0.0           0.0  ...     495.0  False\n",
              "1992983                    0.0           0.0  ...     495.0  False\n",
              "1992984                    0.0           0.0  ...     495.0  False\n",
              "1992985                    0.0           0.0  ...     495.0  False\n",
              "\n",
              "[1992986 rows x 8 columns]"
            ]
          },
          "metadata": {},
          "execution_count": 29
        }
      ]
    },
    {
      "cell_type": "code",
      "metadata": {
        "id": "AO2R2BMmIiaU"
      },
      "source": [
        "# Checking for nan values\n",
        "is_NaN = data.isnull()\n",
        "row_has_NaN = is_NaN.any(axis=1)\n",
        "rows_with_NaN = data[row_has_NaN]"
      ],
      "execution_count": null,
      "outputs": []
    },
    {
      "cell_type": "code",
      "metadata": {
        "id": "frbCPxm-MWfX"
      },
      "source": [
        "data=data.dropna()"
      ],
      "execution_count": null,
      "outputs": []
    },
    {
      "cell_type": "code",
      "metadata": {
        "colab": {
          "base_uri": "https://localhost:8080/"
        },
        "id": "LcDSevsLMrHV",
        "outputId": "41357109-e6be-4f2e-ca27-2b6dbcb5f01b"
      },
      "source": [
        "data.isnull().sum()"
      ],
      "execution_count": null,
      "outputs": [
        {
          "output_type": "execute_result",
          "data": {
            "text/plain": [
              "severaly_error_second    0\n",
              "error_second             0\n",
              "unavail_second           0\n",
              "avail_time               0\n",
              "bbe                      0\n",
              "rxlevmax                 0\n",
              "capacity                 0\n",
              "rlf                      0\n",
              "dtype: int64"
            ]
          },
          "metadata": {},
          "execution_count": 32
        }
      ]
    },
    {
      "cell_type": "code",
      "metadata": {
        "id": "bLfnOoR7EAkR"
      },
      "source": [
        "X=data.iloc[:,:-1].values\n",
        "y=data.iloc[:,-1].values"
      ],
      "execution_count": null,
      "outputs": []
    },
    {
      "cell_type": "code",
      "metadata": {
        "id": "N98Et8Y0XVp9"
      },
      "source": [
        "#Adding constant column of ones, mandatory for sm.OLS model\n",
        "X_1 = sm.add_constant(X)\n",
        "#Fitting sm.OLS model\n",
        "model = sm.OLS(y,X_1).fit()\n",
        "p_values=model.pvalues"
      ],
      "execution_count": null,
      "outputs": []
    },
    {
      "cell_type": "code",
      "metadata": {
        "colab": {
          "base_uri": "https://localhost:8080/"
        },
        "id": "IbW-VnCySUtk",
        "outputId": "e88021b8-9ec5-4960-8251-651110baa72d"
      },
      "source": [
        "X_1[100]"
      ],
      "execution_count": null,
      "outputs": [
        {
          "output_type": "execute_result",
          "data": {
            "text/plain": [
              "array([  1. ,   0. ,   0. ,   0. ,  86.4,   0. , -32.7, 407. ])"
            ]
          },
          "metadata": {},
          "execution_count": 36
        }
      ]
    },
    {
      "cell_type": "code",
      "metadata": {
        "colab": {
          "base_uri": "https://localhost:8080/"
        },
        "id": "QetKlPtbR-IY",
        "outputId": "55029c97-d7d7-4bb7-d1a8-4f80b16a603c"
      },
      "source": [
        "p_values"
      ],
      "execution_count": null,
      "outputs": [
        {
          "output_type": "execute_result",
          "data": {
            "text/plain": [
              "array([2.22172581e-007, 0.00000000e+000, 6.10771950e-183, 0.00000000e+000,\n",
              "       7.65626684e-002, 7.10625958e-002, 1.62893325e-012, 4.74420719e-001])"
            ]
          },
          "metadata": {},
          "execution_count": 37
        }
      ]
    },
    {
      "cell_type": "code",
      "metadata": {
        "colab": {
          "base_uri": "https://localhost:8080/"
        },
        "id": "dhGN3kDsRivF",
        "outputId": "41f1090d-c22f-4dbd-9fc1-1905957d7500"
      },
      "source": [
        "for i in range(0,len(p_values)):\n",
        "  if p_values[i] > 0.05:\n",
        "    print(i)"
      ],
      "execution_count": null,
      "outputs": [
        {
          "output_type": "stream",
          "text": [
            "4\n",
            "5\n",
            "7\n"
          ],
          "name": "stdout"
        }
      ]
    },
    {
      "cell_type": "markdown",
      "metadata": {
        "id": "gAdxMh79UB-a"
      },
      "source": [
        "**Columns having high P value are considered to be redundant and can be dropped to improve performance.** <br>\n",
        "**Avail time, bbe and capacity can be dropped**"
      ]
    },
    {
      "cell_type": "markdown",
      "metadata": {
        "id": "ldJBH-tnUQMX"
      },
      "source": [
        "## **RFE (Recursive Feature Elimination)**"
      ]
    },
    {
      "cell_type": "code",
      "metadata": {
        "colab": {
          "base_uri": "https://localhost:8080/"
        },
        "id": "AuPjltjdO9T7",
        "outputId": "dbeeb19f-21ae-451e-cc37-e00f8a4a9429"
      },
      "source": [
        "model = LinearRegression()\n",
        "#Initializing RFE model\n",
        "rfe = RFE(model, 7)\n",
        "#Transforming data using RFE\n",
        "X_rfe = rfe.fit_transform(X,y)  \n",
        "#Fitting the data to model\n",
        "model.fit(X_rfe,y)\n",
        "print(rfe.support_)\n",
        "print(rfe.ranking_)"
      ],
      "execution_count": null,
      "outputs": [
        {
          "output_type": "stream",
          "text": [
            "[ True  True  True  True  True  True  True]\n",
            "[1 1 1 1 1 1 1]\n"
          ],
          "name": "stdout"
        }
      ]
    },
    {
      "cell_type": "markdown",
      "metadata": {
        "id": "U9CizsGWrKhl"
      },
      "source": [
        "**This method is not suitable for droppping any column as the output of the model is True for all columns**"
      ]
    },
    {
      "cell_type": "markdown",
      "metadata": {
        "id": "IK-9MqxeVLxs"
      },
      "source": [
        "##**Embedded Method**"
      ]
    },
    {
      "cell_type": "code",
      "metadata": {
        "colab": {
          "base_uri": "https://localhost:8080/"
        },
        "id": "et2ySBYtU-eB",
        "outputId": "a049dcfa-3d35-43ff-dec7-14217975215d"
      },
      "source": [
        "reg = LassoCV()\n",
        "reg.fit(X, y)\n",
        "print(\"Best alpha using built-in LassoCV: %f\" % reg.alpha_)\n",
        "print(\"Best score using built-in LassoCV: %f\" %reg.score(X,y))\n",
        "coef = pd.Series(reg.coef_, index = data.iloc[:,:-1].columns)"
      ],
      "execution_count": null,
      "outputs": [
        {
          "output_type": "stream",
          "text": [
            "Best alpha using built-in LassoCV: 0.001828\n",
            "Best score using built-in LassoCV: 0.127664\n"
          ],
          "name": "stdout"
        }
      ]
    },
    {
      "cell_type": "code",
      "metadata": {
        "colab": {
          "base_uri": "https://localhost:8080/"
        },
        "id": "1rfPQNoOVPAk",
        "outputId": "0d68581a-931f-43dd-a076-8acb93841254"
      },
      "source": [
        "print(\"Lasso picked \" + str(sum(coef != 0)) + \" variables and eliminated the other \" +  str(sum(coef == 0)) + \" variables\")"
      ],
      "execution_count": null,
      "outputs": [
        {
          "output_type": "stream",
          "text": [
            "Lasso picked 5 variables and eliminated the other 2 variables\n"
          ],
          "name": "stdout"
        }
      ]
    },
    {
      "cell_type": "code",
      "metadata": {
        "id": "p95zo2W_V3mW",
        "colab": {
          "base_uri": "https://localhost:8080/"
        },
        "outputId": "21bf2db4-0e99-449d-9882-d261337b8c45"
      },
      "source": [
        "coef.sort_values()"
      ],
      "execution_count": null,
      "outputs": [
        {
          "output_type": "execute_result",
          "data": {
            "text/plain": [
              "capacity                -9.559263e-08\n",
              "avail_time               0.000000e+00\n",
              "rxlevmax                -0.000000e+00\n",
              "bbe                      2.711982e-09\n",
              "error_second             2.870396e-05\n",
              "severaly_error_second    5.471792e-05\n",
              "unavail_second           3.697294e-04\n",
              "dtype: float64"
            ]
          },
          "metadata": {},
          "execution_count": 42
        }
      ]
    },
    {
      "cell_type": "code",
      "metadata": {
        "colab": {
          "base_uri": "https://localhost:8080/",
          "height": 623
        },
        "id": "RE32O3sZVmiu",
        "outputId": "09b0526c-ae32-4a83-faba-1b7ae3af32af"
      },
      "source": [
        "imp_coef = coef.sort_values()\n",
        "import matplotlib\n",
        "matplotlib.rcParams['figure.figsize'] = (8.0, 10.0)\n",
        "imp_coef.plot(kind = \"barh\")\n",
        "plt.title(\"Feature importance using Lasso Model\")"
      ],
      "execution_count": null,
      "outputs": [
        {
          "output_type": "execute_result",
          "data": {
            "text/plain": [
              "Text(0.5, 1.0, 'Feature importance using Lasso Model')"
            ]
          },
          "metadata": {},
          "execution_count": 43
        },
        {
          "output_type": "display_data",
          "data": {
            "image/png": "[encoded data removed]",
            "text/plain": [
              "<Figure size 576x720 with 1 Axes>"
            ]
          },
          "metadata": {
            "needs_background": "light"
          }
        }
      ]
    },
    {
      "cell_type": "markdown",
      "metadata": {
        "id": "HmKEyZWJBfFJ"
      },
      "source": [
        "\n",
        "**capacity, avail_time and rxlevmax can be dropped. Even bbe value is low.**\n",
        "\n"
      ]
    },
    {
      "cell_type": "markdown",
      "metadata": {
        "id": "p1FTJNBkB20Q"
      },
      "source": [
        "#### **bbe, avail_time and capacity are the overlapping redundant features obtained by Backward Elimination method and Embedded method. Hence, these factors will be dropped during training.**"
      ]
    }
  ]
}